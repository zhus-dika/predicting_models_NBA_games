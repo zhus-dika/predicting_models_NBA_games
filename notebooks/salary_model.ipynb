{
 "cells": [
  {
   "cell_type": "code",
   "execution_count": 1,
   "id": "1f15f29d-a797-4f97-9864-6babb7f2676a",
   "metadata": {},
   "outputs": [],
   "source": [
    "import os, sys\n",
    "from warnings import catch_warnings, filterwarnings\n",
    "\n",
    "sys.path.append(os.path.abspath(os.path.join('../src')))\n",
    "\n",
    "with catch_warnings():\n",
    "    filterwarnings('ignore', category=Warning)\n",
    "    from models.salary_model import load_dataset, train, predict\n",
    "\n",
    "import onnxruntime as rt"
   ]
  },
  {
   "cell_type": "code",
   "execution_count": 2,
   "id": "d1b0b5cc-5887-4102-bff0-28db99284624",
   "metadata": {},
   "outputs": [
    {
     "data": {
      "text/plain": [
       "((3976, 50), (3976,))"
      ]
     },
     "execution_count": 2,
     "metadata": {},
     "output_type": "execute_result"
    }
   ],
   "source": [
    "x, y = load_dataset('../data')\n",
    "x.shape, y.shape"
   ]
  },
  {
   "cell_type": "code",
   "execution_count": 3,
   "id": "737e0c40-685f-4ddf-812f-ea82f7c492cf",
   "metadata": {},
   "outputs": [
    {
     "name": "stdout",
     "output_type": "stream",
     "text": [
      "CPU times: user 3min 45s, sys: 1min 47s, total: 5min 33s\n",
      "Wall time: 26.5 s\n"
     ]
    },
    {
     "data": {
      "text/plain": [
       "0.7211118248181079"
      ]
     },
     "execution_count": 3,
     "metadata": {},
     "output_type": "execute_result"
    }
   ],
   "source": [
    "%%time\n",
    "with catch_warnings():\n",
    "    filterwarnings('ignore', category=FutureWarning)\n",
    "    score = train(x, y, path='../models/salary_model.onnx', n_trials=100, timeout=100, seed=137)\n",
    "score"
   ]
  },
  {
   "cell_type": "code",
   "execution_count": 4,
   "id": "c773cb3f-f294-4f25-9d77-a66160ba27ef",
   "metadata": {},
   "outputs": [
    {
     "name": "stdout",
     "output_type": "stream",
     "text": [
      "CPU times: user 1.32 s, sys: 13.1 ms, total: 1.34 s\n",
      "Wall time: 906 ms\n"
     ]
    }
   ],
   "source": [
    "%%time\n",
    "session = rt.InferenceSession('../models/salary_model.onnx')"
   ]
  },
  {
   "cell_type": "code",
   "execution_count": 5,
   "id": "07c40de6-38c2-47f5-ba85-b2ac056e6f4f",
   "metadata": {},
   "outputs": [
    {
     "name": "stdout",
     "output_type": "stream",
     "text": [
      "CPU times: user 0 ns, sys: 12 µs, total: 12 µs\n",
      "Wall time: 13.1 µs\n"
     ]
    },
    {
     "data": {
      "text/plain": [
       "{'score': '0.721',\n",
       " 'name': 'salary_model.onnx',\n",
       " 'date': '2023-04-08 22:55:08.862594'}"
      ]
     },
     "execution_count": 5,
     "metadata": {},
     "output_type": "execute_result"
    }
   ],
   "source": [
    "%%time\n",
    "session.get_modelmeta().custom_metadata_map"
   ]
  },
  {
   "cell_type": "code",
   "execution_count": 6,
   "id": "a2144aa8-6d1c-45d0-a86f-e76411097a97",
   "metadata": {},
   "outputs": [
    {
     "name": "stdout",
     "output_type": "stream",
     "text": [
      "CPU times: user 6.41 ms, sys: 0 ns, total: 6.41 ms\n",
      "Wall time: 5.98 ms\n"
     ]
    },
    {
     "data": {
      "text/plain": [
       "0     7336887.0\n",
       "1     3123812.5\n",
       "2    13705947.0\n",
       "3     4722578.5\n",
       "4     9973292.0\n",
       "5     1785155.5\n",
       "6     2764642.5\n",
       "7     8114853.0\n",
       "8    25554966.0\n",
       "9     9543199.0\n",
       "Name: SalaryAdj, dtype: float32"
      ]
     },
     "execution_count": 6,
     "metadata": {},
     "output_type": "execute_result"
    }
   ],
   "source": [
    "%%time\n",
    "predict(session, x.sample(10))"
   ]
  }
 ],
 "metadata": {
  "kernelspec": {
   "display_name": "Python 3 (ipykernel)",
   "language": "python",
   "name": "python3"
  },
  "language_info": {
   "codemirror_mode": {
    "name": "ipython",
    "version": 3
   },
   "file_extension": ".py",
   "mimetype": "text/x-python",
   "name": "python",
   "nbconvert_exporter": "python",
   "pygments_lexer": "ipython3",
   "version": "3.10.10"
  }
 },
 "nbformat": 4,
 "nbformat_minor": 5
}
