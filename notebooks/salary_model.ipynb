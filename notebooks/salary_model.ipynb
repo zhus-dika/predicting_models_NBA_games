{
 "cells": [
  {
   "cell_type": "code",
   "execution_count": 1,
   "id": "1f15f29d-a797-4f97-9864-6babb7f2676a",
   "metadata": {},
   "outputs": [],
   "source": [
    "import os, sys\n",
    "from warnings import catch_warnings, filterwarnings\n",
    "\n",
    "sys.path.append(os.path.abspath(os.path.join('../src')))\n",
    "\n",
    "with catch_warnings():\n",
    "    filterwarnings('ignore', category=Warning)\n",
    "    from models.salary_model import SalaryModel\n",
    "\n",
    "import onnxruntime as rt\n",
    "\n",
    "SALARY_MODEL_FILEPATH = '../models/salary_model.onnx'"
   ]
  },
  {
   "cell_type": "code",
   "execution_count": 2,
   "id": "d1b0b5cc-5887-4102-bff0-28db99284624",
   "metadata": {},
   "outputs": [
    {
     "data": {
      "text/plain": [
       "((3976, 50), (3976,))"
      ]
     },
     "execution_count": 2,
     "metadata": {},
     "output_type": "execute_result"
    }
   ],
   "source": [
    "x, y = SalaryModel.load_dataset('../data')\n",
    "x.shape, y.shape"
   ]
  },
  {
   "cell_type": "code",
   "execution_count": 3,
   "id": "737e0c40-685f-4ddf-812f-ea82f7c492cf",
   "metadata": {},
   "outputs": [
    {
     "name": "stdout",
     "output_type": "stream",
     "text": [
      "CPU times: user 2min 30s, sys: 2min 34s, total: 5min 5s\n",
      "Wall time: 18.9 s\n"
     ]
    },
    {
     "data": {
      "text/plain": [
       "0.7162590562093957"
      ]
     },
     "execution_count": 3,
     "metadata": {},
     "output_type": "execute_result"
    }
   ],
   "source": [
    "%%time\n",
    "with catch_warnings():\n",
    "    filterwarnings('ignore', category=FutureWarning)\n",
    "    score = SalaryModel(SALARY_MODEL_FILEPATH).train(x, y, n_trials=100, timeout=100, seed=137)\n",
    "score"
   ]
  },
  {
   "cell_type": "code",
   "execution_count": 4,
   "id": "07c40de6-38c2-47f5-ba85-b2ac056e6f4f",
   "metadata": {},
   "outputs": [
    {
     "name": "stdout",
     "output_type": "stream",
     "text": [
      "CPU times: user 201 ms, sys: 1.35 ms, total: 203 ms\n",
      "Wall time: 16.3 ms\n"
     ]
    },
    {
     "data": {
      "text/plain": [
       "{'score': '0.716',\n",
       " 'name': 'salary_model.onnx',\n",
       " 'date': '2023-04-11 13:58:20.963933'}"
      ]
     },
     "execution_count": 4,
     "metadata": {},
     "output_type": "execute_result"
    }
   ],
   "source": [
    "%%time\n",
    "SalaryModel(SALARY_MODEL_FILEPATH).get_metadata()"
   ]
  },
  {
   "cell_type": "code",
   "execution_count": 5,
   "id": "a2144aa8-6d1c-45d0-a86f-e76411097a97",
   "metadata": {},
   "outputs": [
    {
     "name": "stdout",
     "output_type": "stream",
     "text": [
      "CPU times: user 220 ms, sys: 0 ns, total: 220 ms\n",
      "Wall time: 17 ms\n"
     ]
    },
    {
     "data": {
      "text/plain": [
       "0    18534088.0\n",
       "1     5399268.0\n",
       "2    15490800.0\n",
       "3     4416535.0\n",
       "4     1686117.0\n",
       "5     5237886.0\n",
       "6     7307346.5\n",
       "7    10941060.0\n",
       "8     8761900.0\n",
       "9    18044606.0\n",
       "Name: SalaryAdj, dtype: float32"
      ]
     },
     "execution_count": 5,
     "metadata": {},
     "output_type": "execute_result"
    }
   ],
   "source": [
    "%%time\n",
    "SalaryModel(SALARY_MODEL_FILEPATH).predict(x.sample(10))"
   ]
  }
 ],
 "metadata": {
  "kernelspec": {
   "display_name": "Python 3 (ipykernel)",
   "language": "python",
   "name": "python3"
  },
  "language_info": {
   "codemirror_mode": {
    "name": "ipython",
    "version": 3
   },
   "file_extension": ".py",
   "mimetype": "text/x-python",
   "name": "python",
   "nbconvert_exporter": "python",
   "pygments_lexer": "ipython3",
   "version": "3.10.10"
  }
 },
 "nbformat": 4,
 "nbformat_minor": 5
}
