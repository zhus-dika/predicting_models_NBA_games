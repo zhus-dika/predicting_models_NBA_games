{
 "cells": [
  {
   "cell_type": "code",
   "execution_count": 1,
   "id": "f3989049-3694-4b88-a1cf-f334668ece19",
   "metadata": {},
   "outputs": [],
   "source": [
    "# импорт библиотек\n",
    "import pandas as pd\n",
    "import pandas_profiling\n",
    "\n",
    "# загружаем датасет\n",
    "df = pd.read_csv('../data/2019_advanced_plus_totals_quarter1.csv')"
   ]
  },
  {
   "cell_type": "code",
   "execution_count": 2,
   "id": "f61bb51a-6325-4313-adb6-1dbe9199c573",
   "metadata": {},
   "outputs": [],
   "source": [
    "# создаём отчёт\n",
    "profile = df.profile_report(title='Pandas Profiling Report', progress_bar=False)\n",
    "# смотрим отчёт в HTML формате\n",
    "profile.to_file(\"pp_report_quarter1.html\")"
   ]
  },
  {
   "cell_type": "code",
   "execution_count": null,
   "id": "8978ee63-eaf8-4ca2-b7b7-3ad3dc696a11",
   "metadata": {},
   "outputs": [],
   "source": [
    "profile.to_widgets()"
   ]
  }
 ],
 "metadata": {
  "kernelspec": {
   "display_name": "Python 3 (ipykernel)",
   "language": "python",
   "name": "python3"
  },
  "language_info": {
   "codemirror_mode": {
    "name": "ipython",
    "version": 3
   },
   "file_extension": ".py",
   "mimetype": "text/x-python",
   "name": "python",
   "nbconvert_exporter": "python",
   "pygments_lexer": "ipython3",
   "version": "3.9.12"
  }
 },
 "nbformat": 4,
 "nbformat_minor": 5
}
